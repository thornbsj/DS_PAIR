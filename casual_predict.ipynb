{
 "cells": [
  {
   "cell_type": "code",
   "execution_count": 1,
   "metadata": {},
   "outputs": [
    {
     "name": "stderr",
     "output_type": "stream",
     "text": [
      "d:\\Anaconda\\lib\\site-packages\\transformers\\utils\\hub.py:124: FutureWarning: Using `TRANSFORMERS_CACHE` is deprecated and will be removed in v5 of Transformers. Use `HF_HOME` instead.\n",
      "  warnings.warn(\n"
     ]
    }
   ],
   "source": [
    "import argparse\n",
    "from datasets import Dataset\n",
    "import pandas as pd\n",
    "from transformers import AutoTokenizer,AutoModelForCausalLM,DataCollatorForLanguageModeling,TrainingArguments,Trainer\n",
    "import torch\n",
    "from peft import LoraConfig, TaskType, get_peft_model"
   ]
  },
  {
   "cell_type": "code",
   "execution_count": 2,
   "metadata": {},
   "outputs": [],
   "source": [
    "model = AutoModelForCausalLM.from_pretrained(\"test_for_casual/checkpoint-500\")\n",
    "tokenizer = AutoTokenizer.from_pretrained(\"bigscience/bloomz-1b7\")"
   ]
  },
  {
   "cell_type": "code",
   "execution_count": null,
   "metadata": {},
   "outputs": [],
   "source": []
  },
  {
   "cell_type": "code",
   "execution_count": 3,
   "metadata": {},
   "outputs": [],
   "source": [
    "# model = model.cuda()"
   ]
  },
  {
   "cell_type": "code",
   "execution_count": 4,
   "metadata": {},
   "outputs": [],
   "source": [
    "tests = pd.read_excel(\"For_generation.xlsx\")"
   ]
  },
  {
   "cell_type": "code",
   "execution_count": 5,
   "metadata": {},
   "outputs": [
    {
     "name": "stdout",
     "output_type": "stream",
     "text": [
      "1 compelete\n",
      "2 compelete\n",
      "3 compelete\n",
      "4 compelete\n",
      "5 compelete\n",
      "6 compelete\n",
      "7 compelete\n",
      "8 compelete\n",
      "9 compelete\n",
      "10 compelete\n",
      "11 compelete\n",
      "12 compelete\n",
      "13 compelete\n",
      "14 compelete\n",
      "15 compelete\n",
      "16 compelete\n"
     ]
    }
   ],
   "source": [
    "res = []\n",
    "for i in tests[\"des_above\"]:\n",
    "    ipt = tokenizer(i,return_tensors=\"pt\").to(model.device)\n",
    "    ipt[\"do_sample\"] = False\n",
    "    res.append(tokenizer.decode(model.generate(**ipt,max_length=256,no_repeat_ngram_size=1)[0]))\n",
    "    print(len(res),\"compelete\")"
   ]
  },
  {
   "cell_type": "code",
   "execution_count": null,
   "metadata": {},
   "outputs": [],
   "source": []
  },
  {
   "cell_type": "code",
   "execution_count": 7,
   "metadata": {},
   "outputs": [],
   "source": [
    "tests[\"res\"]=res"
   ]
  },
  {
   "cell_type": "code",
   "execution_count": 8,
   "metadata": {},
   "outputs": [
    {
     "data": {
      "text/html": [
       "<div>\n",
       "<style scoped>\n",
       "    .dataframe tbody tr th:only-of-type {\n",
       "        vertical-align: middle;\n",
       "    }\n",
       "\n",
       "    .dataframe tbody tr th {\n",
       "        vertical-align: top;\n",
       "    }\n",
       "\n",
       "    .dataframe thead th {\n",
       "        text-align: right;\n",
       "    }\n",
       "</style>\n",
       "<table border=\"1\" class=\"dataframe\">\n",
       "  <thead>\n",
       "    <tr style=\"text-align: right;\">\n",
       "      <th></th>\n",
       "      <th>des_above</th>\n",
       "      <th>res</th>\n",
       "    </tr>\n",
       "  </thead>\n",
       "  <tbody>\n",
       "    <tr>\n",
       "      <th>0</th>\n",
       "      <td>咒术师恩吉在伊扎里斯领悟的咒术，能投掷出毒火球</td>\n",
       "      <td>咒术师恩吉在伊扎里斯领悟的咒术，能投掷出毒火球。虽然是魔法攻击力很高的武器之一但威力却不高；...</td>\n",
       "    </tr>\n",
       "    <tr>\n",
       "      <th>1</th>\n",
       "      <td>能投掷出毒火球</td>\n",
       "      <td>能投掷出毒火球，并附着在目标身上的诅咒。被咒语击中的人会受到剧痛的折磨和中毒效果的影响；即使...</td>\n",
       "    </tr>\n",
       "    <tr>\n",
       "      <th>2</th>\n",
       "      <td>伊扎里斯魔女在猎龙战争期间创造的咒术，能投掷出火焰枪</td>\n",
       "      <td>伊扎里斯魔女在猎龙战争期间创造的咒术，能投掷出火焰枪。虽然是魔法的武器之一但并不像其他魔法一...</td>\n",
       "    </tr>\n",
       "    <tr>\n",
       "      <th>3</th>\n",
       "      <td>能投掷出火焰枪</td>\n",
       "      <td>能投掷出火焰枪的剑。在火中，它可以变成一把武器来攻击敌人或自己身上的盔甲和衣服等物品；也可以...</td>\n",
       "    </tr>\n",
       "    <tr>\n",
       "      <th>4</th>\n",
       "      <td>引起大帽子罗根疯狂的魔法，能够连续喷射结晶吐息</td>\n",
       "      <td>引起大帽子罗根疯狂的魔法，能够连续喷射结晶吐息。这把魔法的效果是巨大的、不可估量的力量和攻击...</td>\n",
       "    </tr>\n",
       "    <tr>\n",
       "      <th>5</th>\n",
       "      <td>伊扎里斯咒术中最为可怖的一个。牺牲自己的生命将身躯化为火焰钻入敌人身体内部</td>\n",
       "      <td>伊扎里斯咒术中最为可怖的一个。牺牲自己的生命将身躯化为火焰钻入敌人身体内部，然后将其烧成灰烬...</td>\n",
       "    </tr>\n",
       "    <tr>\n",
       "      <th>6</th>\n",
       "      <td>牺牲自己的生命将身躯化为火焰钻入敌人身体内部</td>\n",
       "      <td>牺牲自己的生命将身躯化为火焰钻入敌人身体内部。这把武器是火之战士的象征，也是他们唯一的兵器之...</td>\n",
       "    </tr>\n",
       "    <tr>\n",
       "      <th>7</th>\n",
       "      <td>将火焰纳入连同自身在内，周遭多人的体内</td>\n",
       "      <td>将火焰纳入连同自身在内，周遭多人的体内。在火中燃烧的灵魂会化成灰烬而化为尘土；即使被烧伤的人...</td>\n",
       "    </tr>\n",
       "    <tr>\n",
       "      <th>8</th>\n",
       "      <td>被称为“邪妖”的剑，随着斩杀敌人数量的增多而变强</td>\n",
       "      <td>被称为“邪妖”的剑，随着斩杀敌人数量的增多而变强。虽然是武器却不具有攻击性；相反地它是一种用...</td>\n",
       "    </tr>\n",
       "    <tr>\n",
       "      <th>9</th>\n",
       "      <td>能够随着斩杀敌人数量的增多而变强的剑</td>\n",
       "      <td>能够随着斩杀敌人数量的增多而变强的剑。虽然是轻量级武器，但威力却非常大！这把刀的攻击力很高、...</td>\n",
       "    </tr>\n",
       "    <tr>\n",
       "      <th>10</th>\n",
       "      <td>被称为“邪妖”的剑，主人受伤程度越大反而越强</td>\n",
       "      <td>被称为“邪妖”的剑，主人受伤程度越大反而越强。据说这把武器是用来攻击他人的工具之一——但实际...</td>\n",
       "    </tr>\n",
       "    <tr>\n",
       "      <th>11</th>\n",
       "      <td>自身受伤程度越大攻击力就越大的剑</td>\n",
       "      <td>自身受伤程度越大攻击力就越大的剑。虽然是轻武器，但威力却非常大！&lt;/s&gt;</td>\n",
       "    </tr>\n",
       "    <tr>\n",
       "      <th>12</th>\n",
       "      <td>被人们冠以“正义”的剑，能够将黑暗驱散并治疗自身</td>\n",
       "      <td>被人们冠以“正义”的剑，能够将黑暗驱散并治疗自身。这把武器是黑骑士的象征之一——“光明”之刃...</td>\n",
       "    </tr>\n",
       "    <tr>\n",
       "      <th>13</th>\n",
       "      <td>能够将黑暗驱散并治疗自身的剑</td>\n",
       "      <td>能够将黑暗驱散并治疗自身的剑。在战斗时，可以增加攻击力或防御度等效果的物品之一；也可以使用作...</td>\n",
       "    </tr>\n",
       "    <tr>\n",
       "      <th>14</th>\n",
       "      <td>被称为“宝可梦球”的神器，能够捕捉敌人并将其转化为盟友</td>\n",
       "      <td>被称为“宝可梦球”的神器，能够捕捉敌人并将其转化为盟友。它也是传说中的武器之一——“龙之剑”...</td>\n",
       "    </tr>\n",
       "    <tr>\n",
       "      <th>15</th>\n",
       "      <td>能够捕捉敌人并将其转化为盟友</td>\n",
       "      <td>能够捕捉敌人并将其转化为盟友的装备。它是一种能将攻击力转化成力量的物品，但需要消耗大量力量来...</td>\n",
       "    </tr>\n",
       "  </tbody>\n",
       "</table>\n",
       "</div>"
      ],
      "text/plain": [
       "                                des_above  \\\n",
       "0                 咒术师恩吉在伊扎里斯领悟的咒术，能投掷出毒火球   \n",
       "1                                 能投掷出毒火球   \n",
       "2              伊扎里斯魔女在猎龙战争期间创造的咒术，能投掷出火焰枪   \n",
       "3                                 能投掷出火焰枪   \n",
       "4                 引起大帽子罗根疯狂的魔法，能够连续喷射结晶吐息   \n",
       "5   伊扎里斯咒术中最为可怖的一个。牺牲自己的生命将身躯化为火焰钻入敌人身体内部   \n",
       "6                  牺牲自己的生命将身躯化为火焰钻入敌人身体内部   \n",
       "7                     将火焰纳入连同自身在内，周遭多人的体内   \n",
       "8                被称为“邪妖”的剑，随着斩杀敌人数量的增多而变强   \n",
       "9                      能够随着斩杀敌人数量的增多而变强的剑   \n",
       "10                 被称为“邪妖”的剑，主人受伤程度越大反而越强   \n",
       "11                       自身受伤程度越大攻击力就越大的剑   \n",
       "12               被人们冠以“正义”的剑，能够将黑暗驱散并治疗自身   \n",
       "13                         能够将黑暗驱散并治疗自身的剑   \n",
       "14            被称为“宝可梦球”的神器，能够捕捉敌人并将其转化为盟友   \n",
       "15                         能够捕捉敌人并将其转化为盟友   \n",
       "\n",
       "                                                  res  \n",
       "0   咒术师恩吉在伊扎里斯领悟的咒术，能投掷出毒火球。虽然是魔法攻击力很高的武器之一但威力却不高；...  \n",
       "1   能投掷出毒火球，并附着在目标身上的诅咒。被咒语击中的人会受到剧痛的折磨和中毒效果的影响；即使...  \n",
       "2   伊扎里斯魔女在猎龙战争期间创造的咒术，能投掷出火焰枪。虽然是魔法的武器之一但并不像其他魔法一...  \n",
       "3   能投掷出火焰枪的剑。在火中，它可以变成一把武器来攻击敌人或自己身上的盔甲和衣服等物品；也可以...  \n",
       "4   引起大帽子罗根疯狂的魔法，能够连续喷射结晶吐息。这把魔法的效果是巨大的、不可估量的力量和攻击...  \n",
       "5   伊扎里斯咒术中最为可怖的一个。牺牲自己的生命将身躯化为火焰钻入敌人身体内部，然后将其烧成灰烬...  \n",
       "6   牺牲自己的生命将身躯化为火焰钻入敌人身体内部。这把武器是火之战士的象征，也是他们唯一的兵器之...  \n",
       "7   将火焰纳入连同自身在内，周遭多人的体内。在火中燃烧的灵魂会化成灰烬而化为尘土；即使被烧伤的人...  \n",
       "8   被称为“邪妖”的剑，随着斩杀敌人数量的增多而变强。虽然是武器却不具有攻击性；相反地它是一种用...  \n",
       "9   能够随着斩杀敌人数量的增多而变强的剑。虽然是轻量级武器，但威力却非常大！这把刀的攻击力很高、...  \n",
       "10  被称为“邪妖”的剑，主人受伤程度越大反而越强。据说这把武器是用来攻击他人的工具之一——但实际...  \n",
       "11               自身受伤程度越大攻击力就越大的剑。虽然是轻武器，但威力却非常大！</s>  \n",
       "12  被人们冠以“正义”的剑，能够将黑暗驱散并治疗自身。这把武器是黑骑士的象征之一——“光明”之刃...  \n",
       "13  能够将黑暗驱散并治疗自身的剑。在战斗时，可以增加攻击力或防御度等效果的物品之一；也可以使用作...  \n",
       "14  被称为“宝可梦球”的神器，能够捕捉敌人并将其转化为盟友。它也是传说中的武器之一——“龙之剑”...  \n",
       "15  能够捕捉敌人并将其转化为盟友的装备。它是一种能将攻击力转化成力量的物品，但需要消耗大量力量来...  "
      ]
     },
     "execution_count": 8,
     "metadata": {},
     "output_type": "execute_result"
    }
   ],
   "source": [
    "tests"
   ]
  },
  {
   "cell_type": "code",
   "execution_count": 3,
   "metadata": {},
   "outputs": [],
   "source": [
    "ipt = tokenizer(\"无头骑士的盾牌\",return_tensors=\"pt\").to(model.device)\n",
    "res = tokenizer.decode(model.generate(**ipt,max_length=256,do_sample=False,no_repeat_ngram_size=1)[0])"
   ]
  },
  {
   "cell_type": "code",
   "execution_count": 4,
   "metadata": {},
   "outputs": [
    {
     "data": {
      "text/plain": [
       "'无头骑士的盾牌。据说，它是一把被遗弃的神器；虽然没有使用过的痕迹可以证明这一点 ，但从它的形状来看 ,这应该是一个古老的武器 .</s>'"
      ]
     },
     "execution_count": 4,
     "metadata": {},
     "output_type": "execute_result"
    }
   ],
   "source": [
    "res"
   ]
  },
  {
   "cell_type": "code",
   "execution_count": 3,
   "metadata": {},
   "outputs": [
    {
     "data": {
      "text/plain": [
       "BloomForCausalLM(\n",
       "  (transformer): BloomModel(\n",
       "    (word_embeddings): Embedding(250880, 2048)\n",
       "    (word_embeddings_layernorm): LayerNorm((2048,), eps=1e-05, elementwise_affine=True)\n",
       "    (h): ModuleList(\n",
       "      (0-23): 24 x BloomBlock(\n",
       "        (input_layernorm): LayerNorm((2048,), eps=1e-05, elementwise_affine=True)\n",
       "        (self_attention): BloomAttention(\n",
       "          (query_key_value): lora.Linear(\n",
       "            (base_layer): Linear(in_features=2048, out_features=6144, bias=True)\n",
       "            (lora_dropout): ModuleDict(\n",
       "              (default): Dropout(p=0.05, inplace=False)\n",
       "            )\n",
       "            (lora_A): ModuleDict(\n",
       "              (default): Linear(in_features=2048, out_features=8, bias=False)\n",
       "            )\n",
       "            (lora_B): ModuleDict(\n",
       "              (default): Linear(in_features=8, out_features=6144, bias=False)\n",
       "            )\n",
       "            (lora_embedding_A): ParameterDict()\n",
       "            (lora_embedding_B): ParameterDict()\n",
       "          )\n",
       "          (dense): Linear(in_features=2048, out_features=2048, bias=True)\n",
       "          (attention_dropout): Dropout(p=0.0, inplace=False)\n",
       "        )\n",
       "        (post_attention_layernorm): LayerNorm((2048,), eps=1e-05, elementwise_affine=True)\n",
       "        (mlp): BloomMLP(\n",
       "          (dense_h_to_4h): Linear(in_features=2048, out_features=8192, bias=True)\n",
       "          (gelu_impl): BloomGelu()\n",
       "          (dense_4h_to_h): Linear(in_features=8192, out_features=2048, bias=True)\n",
       "        )\n",
       "      )\n",
       "    )\n",
       "    (ln_f): LayerNorm((2048,), eps=1e-05, elementwise_affine=True)\n",
       "  )\n",
       "  (lm_head): Linear(in_features=2048, out_features=250880, bias=False)\n",
       ")"
      ]
     },
     "execution_count": 3,
     "metadata": {},
     "output_type": "execute_result"
    }
   ],
   "source": [
    "model.generate"
   ]
  }
 ],
 "metadata": {
  "kernelspec": {
   "display_name": "base",
   "language": "python",
   "name": "python3"
  },
  "language_info": {
   "codemirror_mode": {
    "name": "ipython",
    "version": 3
   },
   "file_extension": ".py",
   "mimetype": "text/x-python",
   "name": "python",
   "nbconvert_exporter": "python",
   "pygments_lexer": "ipython3",
   "version": "3.10.9"
  }
 },
 "nbformat": 4,
 "nbformat_minor": 2
}
