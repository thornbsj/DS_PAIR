{
 "cells": [
  {
   "cell_type": "code",
   "execution_count": 1,
   "id": "c8e169b0",
   "metadata": {},
   "outputs": [],
   "source": [
    "import pandas as pd\n",
    "# import translators as ts"
   ]
  },
  {
   "cell_type": "code",
   "execution_count": 2,
   "id": "3e7bd444",
   "metadata": {},
   "outputs": [],
   "source": [
    "# https://blog.csdn.net/qq_43588670/article/details/133274553"
   ]
  },
  {
   "cell_type": "code",
   "execution_count": 6,
   "id": "d03351f7",
   "metadata": {},
   "outputs": [],
   "source": [
    "data = pd.read_excel(\"name_remark_description.xlsx\")\n",
    "data[\"Augmentation\"]=\"None\""
   ]
  },
  {
   "cell_type": "code",
   "execution_count": 7,
   "id": "540717b6",
   "metadata": {},
   "outputs": [],
   "source": [
    "data = data[data[\"type\"]!=\"道具\"]\n",
    "data = data.reset_index(drop=True)"
   ]
  },
  {
   "cell_type": "markdown",
   "id": "b42abbdd",
   "metadata": {},
   "source": [
    "## 1 换行符替换"
   ]
  },
  {
   "cell_type": "code",
   "execution_count": 8,
   "id": "c2041644",
   "metadata": {},
   "outputs": [],
   "source": [
    "for i in range(data.shape[0]):\n",
    "    data.loc[i,\"description\"] = data.loc[i,\"description\"].replace(\"\\n\\n\",\"\\t\").replace(\"\\n\",\"\").replace(\"\\t\",\"\\n\")"
   ]
  },
  {
   "cell_type": "markdown",
   "id": "94e90a78",
   "metadata": {},
   "source": [
    "## 2 段落与句子交换位置"
   ]
  },
  {
   "cell_type": "code",
   "execution_count": 9,
   "id": "d25f0b86",
   "metadata": {},
   "outputs": [],
   "source": [
    "data_cp = data.copy()"
   ]
  },
  {
   "cell_type": "code",
   "execution_count": 10,
   "id": "1887a5c6",
   "metadata": {},
   "outputs": [],
   "source": [
    "# 交换句子\n",
    "idxs = set()\n",
    "for i in range(data_cp.shape[0]):\n",
    "    sents = data_cp.loc[i,\"description\"].split(\"\\n\")\n",
    "    for j,sent in enumerate(sents):\n",
    "        add_flag = (sent[-1] == \"。\")\n",
    "        sent = [i for i in sent.split(\"。\") if len(i)>0]\n",
    "        if len(sent)>1:\n",
    "            sents[j] = \"。\".join(sent[::-1])\n",
    "            if add_flag:\n",
    "                sents[j] = sents[j]+\"。\"\n",
    "            idxs.add(i)\n",
    "    data_cp.loc[i,\"description\"] = \"\\n\".join(sents)"
   ]
  },
  {
   "cell_type": "code",
   "execution_count": 11,
   "id": "99b906df",
   "metadata": {},
   "outputs": [],
   "source": [
    "data_cp = data_cp.iloc[list(idxs),:]\n",
    "data_cp.loc[:,\"Augmentation\"] = data_cp.loc[:,\"Augmentation\"] + \"+SwapSentence\""
   ]
  },
  {
   "cell_type": "code",
   "execution_count": 12,
   "id": "fe7e614d",
   "metadata": {},
   "outputs": [],
   "source": [
    "data = pd.concat([data,data_cp],axis=0).reset_index(drop=True)"
   ]
  },
  {
   "cell_type": "code",
   "execution_count": 13,
   "id": "1509cbf3",
   "metadata": {},
   "outputs": [],
   "source": [
    "# 交换段落\n",
    "data_cp = data.copy()\n",
    "idxs = set()\n",
    "for i in range(data_cp.shape[0]):\n",
    "    sents = data_cp.loc[i,\"description\"].split(\"\\n\")\n",
    "    if len(sents)>2:\n",
    "        idxs.add(i)\n",
    "    data_cp.loc[i,\"description\"] = \"\\n\".join(sents[::-1])\n",
    "    \n",
    "data_cp = data_cp.iloc[list(idxs),:]\n",
    "data_cp.loc[:,\"Augmentation\"] = data_cp.loc[:,\"Augmentation\"] + \"+SwapPassage\"\n",
    "data = pd.concat([data,data_cp],axis=0).reset_index(drop=True)"
   ]
  },
  {
   "cell_type": "code",
   "execution_count": 14,
   "id": "cf1b3a5e",
   "metadata": {},
   "outputs": [
    {
     "data": {
      "text/html": [
       "<div>\n",
       "<style scoped>\n",
       "    .dataframe tbody tr th:only-of-type {\n",
       "        vertical-align: middle;\n",
       "    }\n",
       "\n",
       "    .dataframe tbody tr th {\n",
       "        vertical-align: top;\n",
       "    }\n",
       "\n",
       "    .dataframe thead th {\n",
       "        text-align: right;\n",
       "    }\n",
       "</style>\n",
       "<table border=\"1\" class=\"dataframe\">\n",
       "  <thead>\n",
       "    <tr style=\"text-align: right;\">\n",
       "      <th></th>\n",
       "      <th>type</th>\n",
       "      <th>sub_type</th>\n",
       "      <th>name</th>\n",
       "      <th>remark</th>\n",
       "      <th>description</th>\n",
       "      <th>Augmentation</th>\n",
       "    </tr>\n",
       "  </thead>\n",
       "  <tbody>\n",
       "    <tr>\n",
       "      <th>0</th>\n",
       "      <td>戒指</td>\n",
       "      <td>戒指</td>\n",
       "      <td>生命戒指</td>\n",
       "      <td>提升血量上限</td>\n",
       "      <td>自古传承下来的小颗红色宝石戒指，能提升血量上限。\\n戒指里蕴藏各种不同的力量，如果在旅途中找...</td>\n",
       "      <td>None</td>\n",
       "    </tr>\n",
       "    <tr>\n",
       "      <th>1</th>\n",
       "      <td>戒指</td>\n",
       "      <td>戒指</td>\n",
       "      <td>绿花戒指</td>\n",
       "      <td>提升精力的恢复速度</td>\n",
       "      <td>依照大绿花形象设计而成的古老戒指。但这抹美丽的绿，早已不复当时的风采。\\n提升精力恢复速度。</td>\n",
       "      <td>None</td>\n",
       "    </tr>\n",
       "    <tr>\n",
       "      <th>2</th>\n",
       "      <td>戒指</td>\n",
       "      <td>戒指</td>\n",
       "      <td>哈维尔戒指</td>\n",
       "      <td>提升装备重量上限</td>\n",
       "      <td>能承受高负重战士们的戒指。提升装备重量上限。\\n这只戒指命名乃是源于“坚石”哈维尔，而他正以...</td>\n",
       "      <td>None</td>\n",
       "    </tr>\n",
       "    <tr>\n",
       "      <th>3</th>\n",
       "      <td>戒指</td>\n",
       "      <td>戒指</td>\n",
       "      <td>宠爱戒指</td>\n",
       "      <td>能提升血量、精力与装备重量上限</td>\n",
       "      <td>人人歌颂有着“天生美貌”的女神菲娜的宠爱戒指。\\n女神的宠爱有如飞翔的蝴蝶捉摸不定。可同时提...</td>\n",
       "      <td>None</td>\n",
       "    </tr>\n",
       "    <tr>\n",
       "      <th>4</th>\n",
       "      <td>戒指</td>\n",
       "      <td>戒指</td>\n",
       "      <td>钢铁庇佑戒指</td>\n",
       "      <td>提升物理属性减伤率</td>\n",
       "      <td>古老传说中骑士王的戒指。提升物理属性减伤率。\\n骑士王不论何时都如钢铁一般，据说连巨大飞龙的...</td>\n",
       "      <td>None</td>\n",
       "    </tr>\n",
       "    <tr>\n",
       "      <th>...</th>\n",
       "      <td>...</td>\n",
       "      <td>...</td>\n",
       "      <td>...</td>\n",
       "      <td>...</td>\n",
       "      <td>...</td>\n",
       "      <td>...</td>\n",
       "    </tr>\n",
       "    <tr>\n",
       "      <th>780</th>\n",
       "      <td>法术</td>\n",
       "      <td>咒术</td>\n",
       "      <td>浮空混沌</td>\n",
       "      <td>放出能发射飞散火块的混沌火球</td>\n",
       "      <td>那是伊札里斯的罪业，也是哀怜的证明。那瞬间烧尽的混沌，据说曾是诞生出温床的创始生命。\\n能放...</td>\n",
       "      <td>None+SwapSentence+SwapPassage</td>\n",
       "    </tr>\n",
       "    <tr>\n",
       "      <th>781</th>\n",
       "      <td>法术</td>\n",
       "      <td>奇迹</td>\n",
       "      <td>白教光环</td>\n",
       "      <td>白色光环在撕裂敌人后，会回到施术者身边</td>\n",
       "      <td>怀念过去的人们坚信着，总有一天，那些日子能够重返。\\n据说在过去，诸神还具有深厚影响力的时代...</td>\n",
       "      <td>None+SwapSentence+SwapPassage</td>\n",
       "    </tr>\n",
       "    <tr>\n",
       "      <th>782</th>\n",
       "      <td>法术</td>\n",
       "      <td>魔法</td>\n",
       "      <td>古老月光</td>\n",
       "      <td>做出古老月光剑的形状，进行攻击</td>\n",
       "      <td>那可能是更加初始的记忆。古老之剑也能以月光之名称呼，其样貌上与白龙希斯的月光有些差异。\\n持...</td>\n",
       "      <td>None+SwapSentence+SwapPassage</td>\n",
       "    </tr>\n",
       "    <tr>\n",
       "      <th>783</th>\n",
       "      <td>法术</td>\n",
       "      <td>咒术</td>\n",
       "      <td>火焰扇</td>\n",
       "      <td>将火焰化为扇形，大动作横扫</td>\n",
       "      <td>卓伊身为沙之咒术师也不例外，长得十分美丽，但不同的是，她的美并不带毒，因此成为身分卑微者的纤...</td>\n",
       "      <td>None+SwapSentence+SwapPassage</td>\n",
       "    </tr>\n",
       "    <tr>\n",
       "      <th>784</th>\n",
       "      <td>法术</td>\n",
       "      <td>咒术</td>\n",
       "      <td>沸腾混沌</td>\n",
       "      <td>投掷混沌碎片，使其沸腾、爆炸</td>\n",
       "      <td>对恶魔来说，那是生命的碎片。\\n混沌碎片一经接触后，会猛烈沸腾，在瞬间收缩后，引发大爆炸。\\...</td>\n",
       "      <td>None+SwapSentence+SwapPassage</td>\n",
       "    </tr>\n",
       "  </tbody>\n",
       "</table>\n",
       "<p>785 rows × 6 columns</p>\n",
       "</div>"
      ],
      "text/plain": [
       "    type sub_type    name               remark  \\\n",
       "0     戒指       戒指    生命戒指               提升血量上限   \n",
       "1     戒指       戒指    绿花戒指            提升精力的恢复速度   \n",
       "2     戒指       戒指   哈维尔戒指             提升装备重量上限   \n",
       "3     戒指       戒指    宠爱戒指      能提升血量、精力与装备重量上限   \n",
       "4     戒指       戒指  钢铁庇佑戒指            提升物理属性减伤率   \n",
       "..   ...      ...     ...                  ...   \n",
       "780   法术       咒术    浮空混沌       放出能发射飞散火块的混沌火球   \n",
       "781   法术       奇迹    白教光环  白色光环在撕裂敌人后，会回到施术者身边   \n",
       "782   法术       魔法    古老月光      做出古老月光剑的形状，进行攻击   \n",
       "783   法术       咒术     火焰扇        将火焰化为扇形，大动作横扫   \n",
       "784   法术       咒术    沸腾混沌       投掷混沌碎片，使其沸腾、爆炸   \n",
       "\n",
       "                                           description  \\\n",
       "0    自古传承下来的小颗红色宝石戒指，能提升血量上限。\\n戒指里蕴藏各种不同的力量，如果在旅途中找...   \n",
       "1       依照大绿花形象设计而成的古老戒指。但这抹美丽的绿，早已不复当时的风采。\\n提升精力恢复速度。   \n",
       "2    能承受高负重战士们的戒指。提升装备重量上限。\\n这只戒指命名乃是源于“坚石”哈维尔，而他正以...   \n",
       "3    人人歌颂有着“天生美貌”的女神菲娜的宠爱戒指。\\n女神的宠爱有如飞翔的蝴蝶捉摸不定。可同时提...   \n",
       "4    古老传说中骑士王的戒指。提升物理属性减伤率。\\n骑士王不论何时都如钢铁一般，据说连巨大飞龙的...   \n",
       "..                                                 ...   \n",
       "780  那是伊札里斯的罪业，也是哀怜的证明。那瞬间烧尽的混沌，据说曾是诞生出温床的创始生命。\\n能放...   \n",
       "781  怀念过去的人们坚信着，总有一天，那些日子能够重返。\\n据说在过去，诸神还具有深厚影响力的时代...   \n",
       "782  那可能是更加初始的记忆。古老之剑也能以月光之名称呼，其样貌上与白龙希斯的月光有些差异。\\n持...   \n",
       "783  卓伊身为沙之咒术师也不例外，长得十分美丽，但不同的是，她的美并不带毒，因此成为身分卑微者的纤...   \n",
       "784  对恶魔来说，那是生命的碎片。\\n混沌碎片一经接触后，会猛烈沸腾，在瞬间收缩后，引发大爆炸。\\...   \n",
       "\n",
       "                      Augmentation  \n",
       "0                             None  \n",
       "1                             None  \n",
       "2                             None  \n",
       "3                             None  \n",
       "4                             None  \n",
       "..                             ...  \n",
       "780  None+SwapSentence+SwapPassage  \n",
       "781  None+SwapSentence+SwapPassage  \n",
       "782  None+SwapSentence+SwapPassage  \n",
       "783  None+SwapSentence+SwapPassage  \n",
       "784  None+SwapSentence+SwapPassage  \n",
       "\n",
       "[785 rows x 6 columns]"
      ]
     },
     "execution_count": 14,
     "metadata": {},
     "output_type": "execute_result"
    }
   ],
   "source": [
    "data"
   ]
  },
  {
   "cell_type": "code",
   "execution_count": null,
   "id": "4e30a8f1",
   "metadata": {},
   "outputs": [],
   "source": []
  },
  {
   "cell_type": "markdown",
   "id": "d1aa84de",
   "metadata": {},
   "source": [
    "## 3 使用不同的语言分别对句子与段落进行回译"
   ]
  },
  {
   "cell_type": "code",
   "execution_count": null,
   "id": "2de70e22",
   "metadata": {},
   "outputs": [],
   "source": []
  },
  {
   "cell_type": "code",
   "execution_count": null,
   "id": "198be01e",
   "metadata": {},
   "outputs": [],
   "source": []
  },
  {
   "cell_type": "markdown",
   "id": "33638677",
   "metadata": {},
   "source": [
    "### 最后还要把完全相同的输入删去"
   ]
  }
 ],
 "metadata": {
  "kernelspec": {
   "display_name": "Python 3 (ipykernel)",
   "language": "python",
   "name": "python3"
  },
  "language_info": {
   "codemirror_mode": {
    "name": "ipython",
    "version": 3
   },
   "file_extension": ".py",
   "mimetype": "text/x-python",
   "name": "python",
   "nbconvert_exporter": "python",
   "pygments_lexer": "ipython3",
   "version": "3.10.9"
  }
 },
 "nbformat": 4,
 "nbformat_minor": 5
}
