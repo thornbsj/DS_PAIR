{
 "cells": [
  {
   "cell_type": "code",
   "execution_count": 1,
   "id": "8e4d8c18",
   "metadata": {},
   "outputs": [],
   "source": [
    "import pandas as pd\n",
    "from collections import Counter"
   ]
  },
  {
   "cell_type": "code",
   "execution_count": 2,
   "id": "e15529c9",
   "metadata": {},
   "outputs": [],
   "source": [
    "data = pd.read_excel(\"data_for_casual.xlsx\")\n",
    "data[\"type\"]=\"None\""
   ]
  },
  {
   "cell_type": "code",
   "execution_count": 3,
   "id": "88d6f4dd",
   "metadata": {},
   "outputs": [
    {
     "data": {
      "text/plain": [
       "(2169, 2)"
      ]
     },
     "execution_count": 3,
     "metadata": {},
     "output_type": "execute_result"
    }
   ],
   "source": [
    "data.shape"
   ]
  },
  {
   "cell_type": "code",
   "execution_count": 4,
   "id": "0ce1c872",
   "metadata": {},
   "outputs": [],
   "source": [
    "# https://blog.csdn.net/qq_43588670/article/details/133274553"
   ]
  },
  {
   "cell_type": "code",
   "execution_count": null,
   "id": "e612e120",
   "metadata": {},
   "outputs": [],
   "source": []
  },
  {
   "cell_type": "markdown",
   "id": "550fc1eb",
   "metadata": {},
   "source": [
    "## 回译"
   ]
  },
  {
   "cell_type": "code",
   "execution_count": 5,
   "id": "f034dded",
   "metadata": {},
   "outputs": [
    {
     "name": "stdout",
     "output_type": "stream",
     "text": [
      "Simbert不能正常使用，除非你安装：bert4keras、tensorflow ，为了安装快捷，没有默认安装.... module 'keras' has no attribute 'engine'\n"
     ]
    }
   ],
   "source": [
    "from nlpcda import baidu_translate"
   ]
  },
  {
   "cell_type": "code",
   "execution_count": 6,
   "id": "6896bfaa",
   "metadata": {},
   "outputs": [],
   "source": [
    "appid = \"20200720000522724\"\n",
    "secret_key = \"coCbg0chPGbz1VrM4RuZ\""
   ]
  },
  {
   "cell_type": "code",
   "execution_count": 7,
   "id": "3312ce55",
   "metadata": {},
   "outputs": [
    {
     "name": "stdout",
     "output_type": "stream",
     "text": [
      "(2170, 2)\n",
      "(2270, 2)\n",
      "(2370, 2)\n",
      "(2470, 2)\n",
      "(2570, 2)\n",
      "(2670, 2)\n",
      "(2770, 2)\n",
      "(2870, 2)\n",
      "(2970, 2)\n",
      "(3070, 2)\n",
      "(3170, 2)\n",
      "(3270, 2)\n",
      "(3370, 2)\n",
      "(3470, 2)\n",
      "(3570, 2)\n",
      "(3670, 2)\n",
      "(3770, 2)\n",
      "(3870, 2)\n",
      "(3970, 2)\n",
      "(4070, 2)\n",
      "(4170, 2)\n",
      "(4270, 2)\n"
     ]
    }
   ],
   "source": [
    "for i,x in enumerate(data[\"description\"]):\n",
    "    en = baidu_translate(content=x, appid=appid, secretKey=secret_key,t_from='zh', t_to='en')\n",
    "    res = baidu_translate(content=en, appid=appid, secretKey=secret_key,t_from='en', t_to='zh')\n",
    "    if res != x:\n",
    "        data = pd.concat([data,pd.DataFrame({\"description\":[res],\"type\":[data.loc[i,\"type\"]+\"+Spa_translated\"]})],axis=0).reset_index(drop=True)\n",
    "    if i%100 == 0:\n",
    "        print(data.shape)"
   ]
  },
  {
   "cell_type": "markdown",
   "id": "6c284242",
   "metadata": {},
   "source": [
    "## 对于4句话及以上的描述，将前2句视为物品描述，后面的句子翻转作为数据增强"
   ]
  },
  {
   "cell_type": "code",
   "execution_count": 8,
   "id": "deb2515e",
   "metadata": {},
   "outputs": [],
   "source": [
    "c = Counter([len(i.split(\"。\"))>=5 for i in data[\"description\"]])"
   ]
  },
  {
   "cell_type": "code",
   "execution_count": 9,
   "id": "28d7e7f8",
   "metadata": {},
   "outputs": [
    {
     "data": {
      "text/plain": [
       "Counter({False: 3168, True: 1170})"
      ]
     },
     "execution_count": 9,
     "metadata": {},
     "output_type": "execute_result"
    }
   ],
   "source": [
    "c"
   ]
  },
  {
   "cell_type": "code",
   "execution_count": 10,
   "id": "fc37df15",
   "metadata": {},
   "outputs": [],
   "source": [
    "for i,x in enumerate(data[\"description\"]):\n",
    "    if len(x.split(\"。\"))>=5:\n",
    "        x = x.split(\"。\")\n",
    "        x = x[0:2]+x[2:][::-1]\n",
    "        res = \"。\".join([j for j in x if j!=''])+\"。\"\n",
    "        data = pd.concat([data,pd.DataFrame({\"description\":[res],\"type\":[data.loc[i,\"type\"]+\"+Flip\"]})],axis=0).reset_index(drop=True)"
   ]
  },
  {
   "cell_type": "code",
   "execution_count": 11,
   "id": "7e183c72",
   "metadata": {},
   "outputs": [
    {
     "data": {
      "text/html": [
       "<div>\n",
       "<style scoped>\n",
       "    .dataframe tbody tr th:only-of-type {\n",
       "        vertical-align: middle;\n",
       "    }\n",
       "\n",
       "    .dataframe tbody tr th {\n",
       "        vertical-align: top;\n",
       "    }\n",
       "\n",
       "    .dataframe thead th {\n",
       "        text-align: right;\n",
       "    }\n",
       "</style>\n",
       "<table border=\"1\" class=\"dataframe\">\n",
       "  <thead>\n",
       "    <tr style=\"text-align: right;\">\n",
       "      <th></th>\n",
       "      <th>description</th>\n",
       "      <th>type</th>\n",
       "    </tr>\n",
       "  </thead>\n",
       "  <tbody>\n",
       "    <tr>\n",
       "      <th>0</th>\n",
       "      <td>造型独特的卡塔利纳骑士头盔。重视荣誉的卡塔利纳骑士，对于被其他国家笑称为洋葱觉得很气愤。但是...</td>\n",
       "      <td>None</td>\n",
       "    </tr>\n",
       "    <tr>\n",
       "      <th>1</th>\n",
       "      <td>地下墓地的圣骑士，里罗伊的头盔。据说很久以前，白教信徒中出现的第一位不死人，是位身穿黄金铠甲...</td>\n",
       "      <td>None</td>\n",
       "    </tr>\n",
       "    <tr>\n",
       "      <th>2</th>\n",
       "      <td>过去是小隆德骑士，而后堕入黑暗的吸魂鬼面罩。从那有如骷髅的外表可以推断，古老吸魂鬼已有半张脸...</td>\n",
       "      <td>None</td>\n",
       "    </tr>\n",
       "    <tr>\n",
       "      <th>3</th>\n",
       "      <td>过去是小隆德骑士，而后堕入黑暗的吸魂鬼铠甲。那变质的铠甲，如今与吸魂技艺一同变成黑暗手下的象征。</td>\n",
       "      <td>None</td>\n",
       "    </tr>\n",
       "    <tr>\n",
       "      <th>4</th>\n",
       "      <td>袭击村庄及旅人的山贼所用的头巾。可以防沙尘及强烈的日照，也可以用来辨别同伴以防止自相残杀。</td>\n",
       "      <td>None</td>\n",
       "    </tr>\n",
       "    <tr>\n",
       "      <th>...</th>\n",
       "      <td>...</td>\n",
       "      <td>...</td>\n",
       "    </tr>\n",
       "    <tr>\n",
       "      <th>5503</th>\n",
       "      <td>环印骑士手持的黑色对剑。配对武器之一。据说，正因为如此，众神在剑和剑的主人身上盖上了火印。我...</td>\n",
       "      <td>None+Spa_translated+Flip</td>\n",
       "    </tr>\n",
       "    <tr>\n",
       "      <th>5504</th>\n",
       "      <td>像一支大箭，像一把铁枪。它是由一个巨人做的，他是众神的铁匠。众神时代用来猎龙的大箭，如果用在...</td>\n",
       "      <td>None+Spa_translated+Flip</td>\n",
       "    </tr>\n",
       "    <tr>\n",
       "      <th>5505</th>\n",
       "      <td>收集雷电的大型铁矛和箭。它是由一个巨人做的，他是众神的铁匠。从“初薪王”格温开始，闪电就成了...</td>\n",
       "      <td>None+Spa_translated+Flip</td>\n",
       "    </tr>\n",
       "    <tr>\n",
       "      <th>5506</th>\n",
       "      <td>收集雷电的大型铁矛和箭。它是由一个巨人做的，他是众神的铁匠。自从格温国王诞生以来，闪电就一直...</td>\n",
       "      <td>None+Spa_translated+Flip</td>\n",
       "    </tr>\n",
       "    <tr>\n",
       "      <th>5507</th>\n",
       "      <td>坚硬而沉重的黑橡木箭。飞行距离很短，但力量很强。据说这是米尔伍德骑士用来对付他们的敌人——深...</td>\n",
       "      <td>None+Spa_translated+Flip</td>\n",
       "    </tr>\n",
       "  </tbody>\n",
       "</table>\n",
       "<p>5508 rows × 2 columns</p>\n",
       "</div>"
      ],
      "text/plain": [
       "                                            description  \\\n",
       "0     造型独特的卡塔利纳骑士头盔。重视荣誉的卡塔利纳骑士，对于被其他国家笑称为洋葱觉得很气愤。但是...   \n",
       "1     地下墓地的圣骑士，里罗伊的头盔。据说很久以前，白教信徒中出现的第一位不死人，是位身穿黄金铠甲...   \n",
       "2     过去是小隆德骑士，而后堕入黑暗的吸魂鬼面罩。从那有如骷髅的外表可以推断，古老吸魂鬼已有半张脸...   \n",
       "3      过去是小隆德骑士，而后堕入黑暗的吸魂鬼铠甲。那变质的铠甲，如今与吸魂技艺一同变成黑暗手下的象征。   \n",
       "4         袭击村庄及旅人的山贼所用的头巾。可以防沙尘及强烈的日照，也可以用来辨别同伴以防止自相残杀。   \n",
       "...                                                 ...   \n",
       "5503  环印骑士手持的黑色对剑。配对武器之一。据说，正因为如此，众神在剑和剑的主人身上盖上了火印。我...   \n",
       "5504  像一支大箭，像一把铁枪。它是由一个巨人做的，他是众神的铁匠。众神时代用来猎龙的大箭，如果用在...   \n",
       "5505  收集雷电的大型铁矛和箭。它是由一个巨人做的，他是众神的铁匠。从“初薪王”格温开始，闪电就成了...   \n",
       "5506  收集雷电的大型铁矛和箭。它是由一个巨人做的，他是众神的铁匠。自从格温国王诞生以来，闪电就一直...   \n",
       "5507  坚硬而沉重的黑橡木箭。飞行距离很短，但力量很强。据说这是米尔伍德骑士用来对付他们的敌人——深...   \n",
       "\n",
       "                          type  \n",
       "0                         None  \n",
       "1                         None  \n",
       "2                         None  \n",
       "3                         None  \n",
       "4                         None  \n",
       "...                        ...  \n",
       "5503  None+Spa_translated+Flip  \n",
       "5504  None+Spa_translated+Flip  \n",
       "5505  None+Spa_translated+Flip  \n",
       "5506  None+Spa_translated+Flip  \n",
       "5507  None+Spa_translated+Flip  \n",
       "\n",
       "[5508 rows x 2 columns]"
      ]
     },
     "execution_count": 11,
     "metadata": {},
     "output_type": "execute_result"
    }
   ],
   "source": [
    "data"
   ]
  },
  {
   "cell_type": "markdown",
   "id": "7a4e9da9",
   "metadata": {},
   "source": [
    "## 随机词替换"
   ]
  },
  {
   "cell_type": "code",
   "execution_count": 12,
   "id": "a4afcb92",
   "metadata": {},
   "outputs": [],
   "source": [
    "# https://github.com/selfDiscipline/nlpcda"
   ]
  },
  {
   "cell_type": "code",
   "execution_count": 13,
   "id": "31a5b6b6",
   "metadata": {},
   "outputs": [],
   "source": [
    "from nlpcda import Similarword"
   ]
  },
  {
   "cell_type": "code",
   "execution_count": 19,
   "id": "54306f62",
   "metadata": {},
   "outputs": [
    {
     "name": "stdout",
     "output_type": "stream",
     "text": [
      "load :D:\\Anaconda\\lib\\site-packages\\nlpcda\\data\\同义词.txt done\n"
     ]
    }
   ],
   "source": [
    "smw = Similarword(create_num=4, change_rate=0.3)"
   ]
  },
  {
   "cell_type": "code",
   "execution_count": 22,
   "id": "36cd3348",
   "metadata": {
    "scrolled": false
   },
   "outputs": [],
   "source": [
    "for i,x in enumerate(data[\"description\"]):\n",
    "    res = smw.replace(x)[1:]\n",
    "    tpe = [data.loc[i,\"type\"]+\"+SimilarReplace\"]*3\n",
    "    data = pd.concat([data,pd.DataFrame({\"description\":res,\"type\":tpe})],axis=0).reset_index(drop=True)"
   ]
  },
  {
   "cell_type": "code",
   "execution_count": null,
   "id": "b67d05c4",
   "metadata": {},
   "outputs": [],
   "source": []
  },
  {
   "cell_type": "code",
   "execution_count": 23,
   "id": "8e3ea0b8",
   "metadata": {},
   "outputs": [
    {
     "data": {
      "text/html": [
       "<div>\n",
       "<style scoped>\n",
       "    .dataframe tbody tr th:only-of-type {\n",
       "        vertical-align: middle;\n",
       "    }\n",
       "\n",
       "    .dataframe tbody tr th {\n",
       "        vertical-align: top;\n",
       "    }\n",
       "\n",
       "    .dataframe thead th {\n",
       "        text-align: right;\n",
       "    }\n",
       "</style>\n",
       "<table border=\"1\" class=\"dataframe\">\n",
       "  <thead>\n",
       "    <tr style=\"text-align: right;\">\n",
       "      <th></th>\n",
       "      <th>description</th>\n",
       "      <th>type</th>\n",
       "    </tr>\n",
       "  </thead>\n",
       "  <tbody>\n",
       "    <tr>\n",
       "      <th>0</th>\n",
       "      <td>造型独特的卡塔利纳骑士头盔。重视荣誉的卡塔利纳骑士，对于被其他国家笑称为洋葱觉得很气愤。但是...</td>\n",
       "      <td>None</td>\n",
       "    </tr>\n",
       "    <tr>\n",
       "      <th>1</th>\n",
       "      <td>地下墓地的圣骑士，里罗伊的头盔。据说很久以前，白教信徒中出现的第一位不死人，是位身穿黄金铠甲...</td>\n",
       "      <td>None</td>\n",
       "    </tr>\n",
       "    <tr>\n",
       "      <th>2</th>\n",
       "      <td>过去是小隆德骑士，而后堕入黑暗的吸魂鬼面罩。从那有如骷髅的外表可以推断，古老吸魂鬼已有半张脸...</td>\n",
       "      <td>None</td>\n",
       "    </tr>\n",
       "    <tr>\n",
       "      <th>3</th>\n",
       "      <td>过去是小隆德骑士，而后堕入黑暗的吸魂鬼铠甲。那变质的铠甲，如今与吸魂技艺一同变成黑暗手下的象征。</td>\n",
       "      <td>None</td>\n",
       "    </tr>\n",
       "    <tr>\n",
       "      <th>4</th>\n",
       "      <td>袭击村庄及旅人的山贼所用的头巾。可以防沙尘及强烈的日照，也可以用来辨别同伴以防止自相残杀。</td>\n",
       "      <td>None</td>\n",
       "    </tr>\n",
       "    <tr>\n",
       "      <th>...</th>\n",
       "      <td>...</td>\n",
       "      <td>...</td>\n",
       "    </tr>\n",
       "    <tr>\n",
       "      <th>22027</th>\n",
       "      <td>集萃雷电的大型铁矛和箭。它是由一个大个子做的，他是众神的铁匠。自从格温国王诞生以来，闪电就一...</td>\n",
       "      <td>None+Spa_translated+Flip+SimilarReplace</td>\n",
       "    </tr>\n",
       "    <tr>\n",
       "      <th>22028</th>\n",
       "      <td>收集雷轰电闪的重型铁矛和箭。它是由一个巨人做的，他是众神的铁工。自从格温国王诞生以来，闪电就...</td>\n",
       "      <td>None+Spa_translated+Flip+SimilarReplace</td>\n",
       "    </tr>\n",
       "    <tr>\n",
       "      <th>22029</th>\n",
       "      <td>绷硬而沉重的黑橡木箭。飞行距离很短，但力量很强。传闻这是米尔伍德骑士用以对付他们的敌人——无...</td>\n",
       "      <td>None+Spa_translated+Flip+SimilarReplace</td>\n",
       "    </tr>\n",
       "    <tr>\n",
       "      <th>22030</th>\n",
       "      <td>硬而沉重的黑橡木箭。飞行相差很短，但力量很强。据说这是米尔伍德骑士用于对付他们的敌人——绝地...</td>\n",
       "      <td>None+Spa_translated+Flip+SimilarReplace</td>\n",
       "    </tr>\n",
       "    <tr>\n",
       "      <th>22031</th>\n",
       "      <td>坚硬而沉重的黑橡木箭。航空距离很短，但力量很强。据说这是米尔伍德骑士用来对付他俩的大敌——深...</td>\n",
       "      <td>None+Spa_translated+Flip+SimilarReplace</td>\n",
       "    </tr>\n",
       "  </tbody>\n",
       "</table>\n",
       "<p>22032 rows × 2 columns</p>\n",
       "</div>"
      ],
      "text/plain": [
       "                                             description  \\\n",
       "0      造型独特的卡塔利纳骑士头盔。重视荣誉的卡塔利纳骑士，对于被其他国家笑称为洋葱觉得很气愤。但是...   \n",
       "1      地下墓地的圣骑士，里罗伊的头盔。据说很久以前，白教信徒中出现的第一位不死人，是位身穿黄金铠甲...   \n",
       "2      过去是小隆德骑士，而后堕入黑暗的吸魂鬼面罩。从那有如骷髅的外表可以推断，古老吸魂鬼已有半张脸...   \n",
       "3       过去是小隆德骑士，而后堕入黑暗的吸魂鬼铠甲。那变质的铠甲，如今与吸魂技艺一同变成黑暗手下的象征。   \n",
       "4          袭击村庄及旅人的山贼所用的头巾。可以防沙尘及强烈的日照，也可以用来辨别同伴以防止自相残杀。   \n",
       "...                                                  ...   \n",
       "22027  集萃雷电的大型铁矛和箭。它是由一个大个子做的，他是众神的铁匠。自从格温国王诞生以来，闪电就一...   \n",
       "22028  收集雷轰电闪的重型铁矛和箭。它是由一个巨人做的，他是众神的铁工。自从格温国王诞生以来，闪电就...   \n",
       "22029  绷硬而沉重的黑橡木箭。飞行距离很短，但力量很强。传闻这是米尔伍德骑士用以对付他们的敌人——无...   \n",
       "22030  硬而沉重的黑橡木箭。飞行相差很短，但力量很强。据说这是米尔伍德骑士用于对付他们的敌人——绝地...   \n",
       "22031  坚硬而沉重的黑橡木箭。航空距离很短，但力量很强。据说这是米尔伍德骑士用来对付他俩的大敌——深...   \n",
       "\n",
       "                                          type  \n",
       "0                                         None  \n",
       "1                                         None  \n",
       "2                                         None  \n",
       "3                                         None  \n",
       "4                                         None  \n",
       "...                                        ...  \n",
       "22027  None+Spa_translated+Flip+SimilarReplace  \n",
       "22028  None+Spa_translated+Flip+SimilarReplace  \n",
       "22029  None+Spa_translated+Flip+SimilarReplace  \n",
       "22030  None+Spa_translated+Flip+SimilarReplace  \n",
       "22031  None+Spa_translated+Flip+SimilarReplace  \n",
       "\n",
       "[22032 rows x 2 columns]"
      ]
     },
     "execution_count": 23,
     "metadata": {},
     "output_type": "execute_result"
    }
   ],
   "source": [
    "data"
   ]
  },
  {
   "cell_type": "code",
   "execution_count": 24,
   "id": "1a573eaa",
   "metadata": {},
   "outputs": [],
   "source": [
    "data.to_excel(\"augumentation.xlsx\",index=None)"
   ]
  },
  {
   "cell_type": "code",
   "execution_count": null,
   "id": "e5ff619c",
   "metadata": {},
   "outputs": [],
   "source": []
  }
 ],
 "metadata": {
  "kernelspec": {
   "display_name": "Python 3 (ipykernel)",
   "language": "python",
   "name": "python3"
  },
  "language_info": {
   "codemirror_mode": {
    "name": "ipython",
    "version": 3
   },
   "file_extension": ".py",
   "mimetype": "text/x-python",
   "name": "python",
   "nbconvert_exporter": "python",
   "pygments_lexer": "ipython3",
   "version": "3.10.9"
  }
 },
 "nbformat": 4,
 "nbformat_minor": 5
}
