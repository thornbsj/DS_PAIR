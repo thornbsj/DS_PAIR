{
 "cells": [
  {
   "cell_type": "code",
   "execution_count": 1,
   "id": "9a02344c",
   "metadata": {},
   "outputs": [
    {
     "name": "stderr",
     "output_type": "stream",
     "text": [
      "D:\\Anaconda\\lib\\site-packages\\transformers\\utils\\hub.py:124: FutureWarning: Using `TRANSFORMERS_CACHE` is deprecated and will be removed in v5 of Transformers. Use `HF_HOME` instead.\n",
      "  warnings.warn(\n"
     ]
    }
   ],
   "source": [
    "import pandas as pd\n",
    "from transformers import AutoTokenizer,AutoModelForSeq2SeqLM,DataCollatorForSeq2Seq,TrainingArguments,Seq2SeqTrainer,Seq2SeqTrainingArguments,EarlyStoppingCallback\n",
    "from datasets import Dataset"
   ]
  },
  {
   "cell_type": "code",
   "execution_count": 72,
   "id": "c9a09d63",
   "metadata": {},
   "outputs": [],
   "source": [
    "dataset_excel = pd.read_excel(\"name_remark_self.xlsx\")\n",
    "tokenizer = AutoTokenizer.from_pretrained(\"D:/Anaconda/jupyter-notebook/DS_PAIR_CON/Langboat/mengzi-t5-base_32bit_False_rouge/checkpoint-330/\")\n",
    "model = AutoModelForSeq2SeqLM.from_pretrained(\"D:/Anaconda/jupyter-notebook/DS_PAIR_CON/Langboat/mengzi-t5-base_32bit_False_rouge/checkpoint-330/\")"
   ]
  },
  {
   "cell_type": "code",
   "execution_count": 73,
   "id": "6ba25d33",
   "metadata": {
    "scrolled": true
   },
   "outputs": [
    {
     "data": {
      "text/html": [
       "<div>\n",
       "<style scoped>\n",
       "    .dataframe tbody tr th:only-of-type {\n",
       "        vertical-align: middle;\n",
       "    }\n",
       "\n",
       "    .dataframe tbody tr th {\n",
       "        vertical-align: top;\n",
       "    }\n",
       "\n",
       "    .dataframe thead th {\n",
       "        text-align: right;\n",
       "    }\n",
       "</style>\n",
       "<table border=\"1\" class=\"dataframe\">\n",
       "  <thead>\n",
       "    <tr style=\"text-align: right;\">\n",
       "      <th></th>\n",
       "      <th>type</th>\n",
       "      <th>sub_type</th>\n",
       "      <th>name</th>\n",
       "      <th>remark</th>\n",
       "    </tr>\n",
       "  </thead>\n",
       "  <tbody>\n",
       "    <tr>\n",
       "      <th>0</th>\n",
       "      <td>法术</td>\n",
       "      <td>魔法</td>\n",
       "      <td>结晶风暴</td>\n",
       "      <td>在周围喷出数道结晶吐息</td>\n",
       "    </tr>\n",
       "    <tr>\n",
       "      <th>1</th>\n",
       "      <td>法术</td>\n",
       "      <td>魔法</td>\n",
       "      <td>魔法飞弹</td>\n",
       "      <td>投出魔法弹</td>\n",
       "    </tr>\n",
       "    <tr>\n",
       "      <th>2</th>\n",
       "      <td>法术</td>\n",
       "      <td>魔法</td>\n",
       "      <td>喷射结晶</td>\n",
       "      <td>连续喷出结晶吐息</td>\n",
       "    </tr>\n",
       "    <tr>\n",
       "      <th>3</th>\n",
       "      <td>法术</td>\n",
       "      <td>奇迹</td>\n",
       "      <td>雷蛇</td>\n",
       "      <td>放出形如蛇爬动地面的雷电攻击</td>\n",
       "    </tr>\n",
       "    <tr>\n",
       "      <th>4</th>\n",
       "      <td>法术</td>\n",
       "      <td>奇迹</td>\n",
       "      <td>引起雷电</td>\n",
       "      <td>从手中放出强烈巨大雷击</td>\n",
       "    </tr>\n",
       "    <tr>\n",
       "      <th>5</th>\n",
       "      <td>法术</td>\n",
       "      <td>奇迹</td>\n",
       "      <td>黑暗枪</td>\n",
       "      <td>投掷带黑暗枪</td>\n",
       "    </tr>\n",
       "    <tr>\n",
       "      <th>6</th>\n",
       "      <td>法术</td>\n",
       "      <td>咒术</td>\n",
       "      <td>火焰枪</td>\n",
       "      <td>投掷火焰枪</td>\n",
       "    </tr>\n",
       "    <tr>\n",
       "      <th>7</th>\n",
       "      <td>法术</td>\n",
       "      <td>咒术</td>\n",
       "      <td>毒气弹</td>\n",
       "      <td>朝对手掷出有毒的气弹</td>\n",
       "    </tr>\n",
       "    <tr>\n",
       "      <th>8</th>\n",
       "      <td>法术</td>\n",
       "      <td>咒术</td>\n",
       "      <td>潜能爆发</td>\n",
       "      <td>连同周围人物提升攻击力，但血量将持续减少</td>\n",
       "    </tr>\n",
       "    <tr>\n",
       "      <th>9</th>\n",
       "      <td>戒指</td>\n",
       "      <td>戒指</td>\n",
       "      <td>防护戒指</td>\n",
       "      <td>累计抵挡一定的攻击，之后戒指会损坏</td>\n",
       "    </tr>\n",
       "    <tr>\n",
       "      <th>10</th>\n",
       "      <td>戒指</td>\n",
       "      <td>戒指</td>\n",
       "      <td>魔力防护戒指</td>\n",
       "      <td>大幅提升魔力属性减伤率</td>\n",
       "    </tr>\n",
       "    <tr>\n",
       "      <th>11</th>\n",
       "      <td>戒指</td>\n",
       "      <td>戒指</td>\n",
       "      <td>红灯戒</td>\n",
       "      <td>增加攻击伤害，但血量会减少</td>\n",
       "    </tr>\n",
       "    <tr>\n",
       "      <th>12</th>\n",
       "      <td>道具</td>\n",
       "      <td>重要道具</td>\n",
       "      <td>宝可梦球</td>\n",
       "      <td>能够将敌人封印并转化</td>\n",
       "    </tr>\n",
       "    <tr>\n",
       "      <th>13</th>\n",
       "      <td>道具</td>\n",
       "      <td>消耗品</td>\n",
       "      <td>惊吓瓶</td>\n",
       "      <td>引发恐慌造成敌人逃窜</td>\n",
       "    </tr>\n",
       "    <tr>\n",
       "      <th>14</th>\n",
       "      <td>道具</td>\n",
       "      <td>消耗品</td>\n",
       "      <td>瓶装火焰</td>\n",
       "      <td>暂时提升攻击力，但血量将持续减少</td>\n",
       "    </tr>\n",
       "    <tr>\n",
       "      <th>15</th>\n",
       "      <td>道具</td>\n",
       "      <td>重要灵魂</td>\n",
       "      <td>「死人」波士顿之魂</td>\n",
       "      <td>可以获得庞大的灵魂，或者……</td>\n",
       "    </tr>\n",
       "  </tbody>\n",
       "</table>\n",
       "</div>"
      ],
      "text/plain": [
       "   type sub_type       name                remark\n",
       "0    法术       魔法       结晶风暴           在周围喷出数道结晶吐息\n",
       "1    法术       魔法       魔法飞弹                 投出魔法弹\n",
       "2    法术       魔法       喷射结晶              连续喷出结晶吐息\n",
       "3    法术       奇迹         雷蛇        放出形如蛇爬动地面的雷电攻击\n",
       "4    法术       奇迹       引起雷电           从手中放出强烈巨大雷击\n",
       "5    法术       奇迹        黑暗枪                投掷带黑暗枪\n",
       "6    法术       咒术        火焰枪                 投掷火焰枪\n",
       "7    法术       咒术        毒气弹            朝对手掷出有毒的气弹\n",
       "8    法术       咒术       潜能爆发  连同周围人物提升攻击力，但血量将持续减少\n",
       "9    戒指       戒指       防护戒指     累计抵挡一定的攻击，之后戒指会损坏\n",
       "10   戒指       戒指     魔力防护戒指           大幅提升魔力属性减伤率\n",
       "11   戒指       戒指        红灯戒         增加攻击伤害，但血量会减少\n",
       "12   道具     重要道具       宝可梦球            能够将敌人封印并转化\n",
       "13   道具      消耗品        惊吓瓶            引发恐慌造成敌人逃窜\n",
       "14   道具      消耗品       瓶装火焰      暂时提升攻击力，但血量将持续减少\n",
       "15   道具     重要灵魂  「死人」波士顿之魂        可以获得庞大的灵魂，或者……"
      ]
     },
     "execution_count": 73,
     "metadata": {},
     "output_type": "execute_result"
    }
   ],
   "source": [
    "dataset_excel"
   ]
  },
  {
   "cell_type": "code",
   "execution_count": 74,
   "id": "0dfef736",
   "metadata": {},
   "outputs": [],
   "source": [
    "def preprocess_func(example):\n",
    "    inputs = tokenizer(\n",
    "        \"物品类型：{}\\n子类型：{}\\n物品名称：{}\\n物品描述：{}\".format(example[\"type\"],example[\"sub_type\"],example[\"name\"],example[\"remark\"]).strip()\n",
    "        ,return_tensors=\"pt\")\n",
    "    return inputs.to(model.device)"
   ]
  },
  {
   "cell_type": "code",
   "execution_count": 101,
   "id": "41eb17c8",
   "metadata": {},
   "outputs": [],
   "source": [
    "ipt = preprocess_func(dataset_excel.loc[3,:])"
   ]
  },
  {
   "cell_type": "code",
   "execution_count": 102,
   "id": "b1d1fc21",
   "metadata": {},
   "outputs": [],
   "source": [
    "res = model.generate(ipt[\"input_ids\"], max_length=200)"
   ]
  },
  {
   "cell_type": "code",
   "execution_count": 103,
   "id": "81e56695",
   "metadata": {},
   "outputs": [
    {
     "data": {
      "text/plain": [
       "'“蛇”的奇迹。 能放出形如蛇爬动地面的雷电攻击。 蛇爬动地面的雷电攻击, 能放出形如蛇爬动地面的雷电攻击。 雷电攻击是一切生命的根源, 雷电攻击都来自雷电。'"
      ]
     },
     "execution_count": 103,
     "metadata": {},
     "output_type": "execute_result"
    }
   ],
   "source": [
    "tokenizer.decode(res[0], skip_special_tokens=True)"
   ]
  },
  {
   "cell_type": "code",
   "execution_count": 85,
   "id": "dccc0c5a",
   "metadata": {},
   "outputs": [
    {
     "data": {
      "text/plain": [
       "tensor([[    0,     7,  6229,  1781,   523,   324, 12740,     5,  6229,  1781,\n",
       "             4,     7,    76, 15051,    98, 14247,     5,   215,  1944,     4,\n",
       "             7,  6229,  1781,   523,   324,     3,     7,    76, 15051,    98,\n",
       "         14247,     5,   215,  1944,     4,     7,  6229,  1781,   523,   324,\n",
       "             3,     7,    57,  2761,    11,  2111,  6229,  1781,   523,     3,\n",
       "             7,   758,     8,  6229,  1781,   523,   324,  7315,     3,     7,\n",
       "            36,  6229,  1781,   523,   324,   182,  1845,    11,    18,  5996,\n",
       "         29288,   163,     5, 15142,     4,     1]])"
      ]
     },
     "execution_count": 85,
     "metadata": {},
     "output_type": "execute_result"
    }
   ],
   "source": [
    "res"
   ]
  },
  {
   "cell_type": "code",
   "execution_count": 27,
   "id": "06adbd69",
   "metadata": {},
   "outputs": [
    {
     "data": {
      "application/vnd.jupyter.widget-view+json": {
       "model_id": "585f6bcc1431436888bba572e6a4f5bb",
       "version_major": 2,
       "version_minor": 0
      },
      "text/plain": [
       "Map:   0%|          | 0/16 [00:00<?, ? examples/s]"
      ]
     },
     "metadata": {},
     "output_type": "display_data"
    }
   ],
   "source": [
    "dataset = Dataset.from_pandas(dataset_excel)\n",
    "tokenized_data = dataset.map(preprocess_func,remove_columns=dataset.column_names)"
   ]
  },
  {
   "cell_type": "code",
   "execution_count": 31,
   "id": "59d15e84",
   "metadata": {},
   "outputs": [
    {
     "ename": "AttributeError",
     "evalue": "'BertTokenizerFast' object has no attribute 'build_inputs_for_generation'",
     "output_type": "error",
     "traceback": [
      "\u001b[1;31m---------------------------------------------------------------------------\u001b[0m",
      "\u001b[1;31mAttributeError\u001b[0m                            Traceback (most recent call last)",
      "Cell \u001b[1;32mIn[31], line 1\u001b[0m\n\u001b[1;32m----> 1\u001b[0m \u001b[43mtokenizer\u001b[49m\u001b[38;5;241;43m.\u001b[39;49m\u001b[43mbuild_inputs_for_generation\u001b[49m\n",
      "\u001b[1;31mAttributeError\u001b[0m: 'BertTokenizerFast' object has no attribute 'build_inputs_for_generation'"
     ]
    }
   ],
   "source": [
    "tokenizer.build_inputs_for_generation"
   ]
  },
  {
   "cell_type": "code",
   "execution_count": 13,
   "id": "e94b57d8",
   "metadata": {},
   "outputs": [
    {
     "ename": "AttributeError",
     "evalue": "'list' object has no attribute 'shape'",
     "output_type": "error",
     "traceback": [
      "\u001b[1;31m---------------------------------------------------------------------------\u001b[0m",
      "\u001b[1;31mAttributeError\u001b[0m                            Traceback (most recent call last)",
      "Cell \u001b[1;32mIn[13], line 1\u001b[0m\n\u001b[1;32m----> 1\u001b[0m res \u001b[38;5;241m=\u001b[39m \u001b[43mmodel\u001b[49m\u001b[38;5;241;43m.\u001b[39;49m\u001b[43mgenerate\u001b[49m\u001b[43m(\u001b[49m\u001b[43mtokenized_data\u001b[49m\u001b[43m[\u001b[49m\u001b[38;5;241;43m0\u001b[39;49m\u001b[43m]\u001b[49m\u001b[43m[\u001b[49m\u001b[38;5;124;43m\"\u001b[39;49m\u001b[38;5;124;43minput_ids\u001b[39;49m\u001b[38;5;124;43m\"\u001b[39;49m\u001b[43m]\u001b[49m\u001b[43m,\u001b[49m\u001b[43mmax_length\u001b[49m\u001b[38;5;241;43m=\u001b[39;49m\u001b[38;5;241;43m100\u001b[39;49m\u001b[43m)\u001b[49m\n",
      "File \u001b[1;32mD:\\Anaconda\\lib\\site-packages\\torch\\utils\\_contextlib.py:115\u001b[0m, in \u001b[0;36mcontext_decorator.<locals>.decorate_context\u001b[1;34m(*args, **kwargs)\u001b[0m\n\u001b[0;32m    112\u001b[0m \u001b[38;5;129m@functools\u001b[39m\u001b[38;5;241m.\u001b[39mwraps(func)\n\u001b[0;32m    113\u001b[0m \u001b[38;5;28;01mdef\u001b[39;00m \u001b[38;5;21mdecorate_context\u001b[39m(\u001b[38;5;241m*\u001b[39margs, \u001b[38;5;241m*\u001b[39m\u001b[38;5;241m*\u001b[39mkwargs):\n\u001b[0;32m    114\u001b[0m     \u001b[38;5;28;01mwith\u001b[39;00m ctx_factory():\n\u001b[1;32m--> 115\u001b[0m         \u001b[38;5;28;01mreturn\u001b[39;00m func(\u001b[38;5;241m*\u001b[39margs, \u001b[38;5;241m*\u001b[39m\u001b[38;5;241m*\u001b[39mkwargs)\n",
      "File \u001b[1;32mD:\\Anaconda\\lib\\site-packages\\transformers\\generation\\utils.py:1333\u001b[0m, in \u001b[0;36mGenerationMixin.generate\u001b[1;34m(self, inputs, generation_config, logits_processor, stopping_criteria, prefix_allowed_tokens_fn, synced_gpus, assistant_model, streamer, negative_prompt_ids, negative_prompt_attention_mask, **kwargs)\u001b[0m\n\u001b[0;32m   1325\u001b[0m \u001b[38;5;66;03m# 3. Define model inputs\u001b[39;00m\n\u001b[0;32m   1326\u001b[0m \u001b[38;5;66;03m# inputs_tensor has to be defined\u001b[39;00m\n\u001b[0;32m   1327\u001b[0m \u001b[38;5;66;03m# model_input_name is defined if model-specific keyword input is passed\u001b[39;00m\n\u001b[0;32m   1328\u001b[0m \u001b[38;5;66;03m# otherwise model_input_name is None\u001b[39;00m\n\u001b[0;32m   1329\u001b[0m \u001b[38;5;66;03m# all model-specific keyword inputs are removed from `model_kwargs`\u001b[39;00m\n\u001b[0;32m   1330\u001b[0m inputs_tensor, model_input_name, model_kwargs \u001b[38;5;241m=\u001b[39m \u001b[38;5;28mself\u001b[39m\u001b[38;5;241m.\u001b[39m_prepare_model_inputs(\n\u001b[0;32m   1331\u001b[0m     inputs, generation_config\u001b[38;5;241m.\u001b[39mbos_token_id, model_kwargs\n\u001b[0;32m   1332\u001b[0m )\n\u001b[1;32m-> 1333\u001b[0m batch_size \u001b[38;5;241m=\u001b[39m \u001b[43minputs_tensor\u001b[49m\u001b[38;5;241;43m.\u001b[39;49m\u001b[43mshape\u001b[49m[\u001b[38;5;241m0\u001b[39m]\n\u001b[0;32m   1335\u001b[0m \u001b[38;5;66;03m# 4. Define other model kwargs\u001b[39;00m\n\u001b[0;32m   1336\u001b[0m model_kwargs[\u001b[38;5;124m\"\u001b[39m\u001b[38;5;124moutput_attentions\u001b[39m\u001b[38;5;124m\"\u001b[39m] \u001b[38;5;241m=\u001b[39m generation_config\u001b[38;5;241m.\u001b[39moutput_attentions\n",
      "\u001b[1;31mAttributeError\u001b[0m: 'list' object has no attribute 'shape'"
     ]
    }
   ],
   "source": [
    "res = model.generate(tokenized_data[0][\"input_ids\"],max_length=100)"
   ]
  },
  {
   "cell_type": "code",
   "execution_count": 12,
   "id": "985ffc45",
   "metadata": {},
   "outputs": [
    {
     "data": {
      "text/plain": [
       "{'input_ids': [[101,\n",
       "   14096,\n",
       "   6612,\n",
       "   16633,\n",
       "   7319,\n",
       "   25832,\n",
       "   12688,\n",
       "   11264,\n",
       "   8263,\n",
       "   16633,\n",
       "   7319,\n",
       "   25832,\n",
       "   24375,\n",
       "   12688,\n",
       "   14096,\n",
       "   6612,\n",
       "   6432,\n",
       "   15995,\n",
       "   25832,\n",
       "   17217,\n",
       "   11080,\n",
       "   23745,\n",
       "   11142,\n",
       "   14096,\n",
       "   6612,\n",
       "   10411,\n",
       "   21521,\n",
       "   25832,\n",
       "   7221,\n",
       "   6523,\n",
       "   7169,\n",
       "   6857,\n",
       "   5905,\n",
       "   10820,\n",
       "   21619,\n",
       "   17217,\n",
       "   11080,\n",
       "   6435,\n",
       "   9556,\n",
       "   102]]}"
      ]
     },
     "execution_count": 12,
     "metadata": {},
     "output_type": "execute_result"
    }
   ],
   "source": [
    "tokenized_data[0]"
   ]
  },
  {
   "cell_type": "code",
   "execution_count": null,
   "id": "91c18159",
   "metadata": {},
   "outputs": [],
   "source": []
  }
 ],
 "metadata": {
  "kernelspec": {
   "display_name": "Python 3 (ipykernel)",
   "language": "python",
   "name": "python3"
  },
  "language_info": {
   "codemirror_mode": {
    "name": "ipython",
    "version": 3
   },
   "file_extension": ".py",
   "mimetype": "text/x-python",
   "name": "python",
   "nbconvert_exporter": "python",
   "pygments_lexer": "ipython3",
   "version": "3.10.9"
  }
 },
 "nbformat": 4,
 "nbformat_minor": 5
}
